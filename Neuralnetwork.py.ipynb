{
 "cells": [
  {
   "cell_type": "code",
   "execution_count": 1,
   "id": "9291853e",
   "metadata": {},
   "outputs": [],
   "source": [
    "import numpy as np\n",
    "A = np.array([          # Letter A\n",
    "    0,1,1,1,0,\n",
    "    1,0,0,0,1,\n",
    "    1,1,1,1,1,\n",
    "    1,0,0,0,1,\n",
    "    1,0,0,0,1,\n",
    "    0,0,0,0,0\n",
    "])\n",
    "B = np.array([          # Letter B\n",
    "    1,1,1,1,0,\n",
    "    1,0,0,0,1,\n",
    "    1,1,1,1,0,\n",
    "    1,0,0,0,1,\n",
    "    1,1,1,1,0,\n",
    "    0,0,0,0,0\n",
    "])\n",
    "C = np.array([          # Letter C\n",
    "    0,1,1,1,1,\n",
    "    1,0,0,0,0,\n",
    "    1,0,0,0,0,\n",
    "    1,0,0,0,0,\n",
    "    0,1,1,1,1,\n",
    "    0,0,0,0,0\n",
    "])\n",
    "X = np.array([A, B, C])  # Combine into training data  shape (3,30)\n",
    "Y = np.array([            # Labels (one-hot encoding)\n",
    "    [1,0,0],  # A\n",
    "    [0,1,0],  # B\n",
    "    [0,0,1]   # C\n",
    "])"
   ]
  },
  {
   "cell_type": "markdown",
   "id": "8524a1d0",
   "metadata": {},
   "source": [
    "FORWARD PASS:\n",
    "Multiply inputs by weights and add bias (Z = X·W + b).\n",
    "Apply sigmoid activation: squashes values between 0 and 1.\n",
    "Hidden layer output becomes input for the output layer.\n",
    "Output layer produces predictions (A2) for each class.\n",
    "This is called feedforward because information flows forward only."
   ]
  },
  {
   "cell_type": "code",
   "execution_count": 2,
   "id": "3bd75a33",
   "metadata": {},
   "outputs": [],
   "source": [
    "# Network sizes\n",
    "input_size = 30\n",
    "hidden_size = 10\n",
    "output_size = 3\n",
    "np.random.seed(42)      # Random weight initialization\n",
    "W1 = np.random.randn(input_size, hidden_size) * 0.01\n",
    "b1 = np.zeros((1, hidden_size))\n",
    "W2 = np.random.randn(hidden_size, output_size) * 0.01\n",
    "b2 = np.zeros((1, output_size))\n",
    "def sigmoid(z):\n",
    "    return 1 / (1 + np.exp(-z))\n",
    "def sigmoid_derivative(z):\n",
    "    return z * (1 - z)  # if z = sigmoid(z_input)\n",
    "def forward(X):\n",
    "    Z1 = np.dot(X, W1) + b1\n",
    "    A1 = sigmoid(Z1)\n",
    "    Z2 = np.dot(A1, W2) + b2\n",
    "    A2 = sigmoid(Z2)\n",
    "    return Z1, A1, Z2, A2\n"
   ]
  },
  {
   "cell_type": "markdown",
   "id": "0ac38567",
   "metadata": {},
   "source": [
    "Input layer: Accepts 30 pixels (features) from the image.\n",
    "Hidden layer: Learns patterns and relationships between pixels.\n",
    "Output layer: Produces 3 values representing the probability of A, B, or C."
   ]
  },
  {
   "cell_type": "code",
   "execution_count": 3,
   "id": "bf4124e2",
   "metadata": {},
   "outputs": [],
   "source": [
    "def compute_loss(Y, Y_hat):\n",
    "    return np.mean((Y - Y_hat)**2)\n",
    "def backward(X, Y, Z1, A1, Z2, A2, learning_rate=0.1):\n",
    "    global W1, W2, b1, b2\n",
    "    dA2 = A2 - Y            # Output layer error\n",
    "    dZ2 = dA2 * sigmoid_derivative(A2)\n",
    "    dW2 = np.dot(A1.T, dZ2)\n",
    "    db2 = np.sum(dZ2, axis=0, keepdims=True)\n",
    "    dA1 = np.dot(dZ2, W2.T)  # Hidden layer error\n",
    "    dZ1 = dA1 * sigmoid_derivative(A1)\n",
    "    dW1 = np.dot(X.T, dZ1)\n",
    "    db1 = np.sum(dZ1, axis=0, keepdims=True)\n",
    "    W1 -= learning_rate * dW1    # Update weights\n",
    "    b1 -= learning_rate * db1\n",
    "    W2 -= learning_rate * dW2\n",
    "    b2 -= learning_rate * db2\n"
   ]
  },
  {
   "cell_type": "markdown",
   "id": "9a4fb76a",
   "metadata": {},
   "source": [
    "TRAINING LOOP"
   ]
  },
  {
   "cell_type": "code",
   "execution_count": 4,
   "id": "6054196b",
   "metadata": {},
   "outputs": [
    {
     "name": "stdout",
     "output_type": "stream",
     "text": [
      "Epoch 0, Loss: 0.2512\n",
      "Epoch 1000, Loss: 0.0068\n",
      "Epoch 2000, Loss: 0.0017\n",
      "Epoch 3000, Loss: 0.0010\n",
      "Epoch 4000, Loss: 0.0006\n",
      "Epoch 5000, Loss: 0.0005\n",
      "Epoch 6000, Loss: 0.0004\n",
      "Epoch 7000, Loss: 0.0003\n",
      "Epoch 8000, Loss: 0.0003\n",
      "Epoch 9000, Loss: 0.0002\n"
     ]
    }
   ],
   "source": [
    "epochs = 10000\n",
    "for i in range(epochs):\n",
    "    Z1, A1, Z2, A2 = forward(X)\n",
    "    loss = compute_loss(Y, A2)\n",
    "    backward(X, Y, Z1, A1, Z2, A2, learning_rate=0.1)\n",
    "    \n",
    "    if i % 1000 == 0:\n",
    "        print(f\"Epoch {i}, Loss: {loss:.4f}\")\n"
   ]
  },
  {
   "cell_type": "markdown",
   "id": "9b38481b",
   "metadata": {},
   "source": [
    "TESTING THE MODEL"
   ]
  },
  {
   "cell_type": "code",
   "execution_count": null,
   "id": "7dd6f5eb",
   "metadata": {},
   "outputs": [],
   "source": [
    "def predict(x):\n",
    "    _, _, _, A2 = forward(x)\n",
    "    return np.argmax(A2, axis=1)\n",
    "preds = predict(X)\n",
    "print(\"Predicted classes:\", preds)\n",
    "print(\"Actual classes:   \", np.argmax(Y, axis=1))\n"
   ]
  },
  {
   "cell_type": "code",
   "execution_count": null,
   "id": "fdc03475",
   "metadata": {},
   "outputs": [],
   "source": [
    "VISUALIZING THE INPUT LETTERS"
   ]
  },
  {
   "cell_type": "code",
   "execution_count": 5,
   "id": "02775ea6",
   "metadata": {},
   "outputs": [
    {
     "data": {
      "image/png": "[encoded data removed]",
      "text/plain": [
       "<Figure size 640x480 with 1 Axes>"
      ]
     },
     "metadata": {},
     "output_type": "display_data"
    },
    {
     "data": {
      "image/png": "[encoded data removed]",
      "text/plain": [
       "<Figure size 640x480 with 1 Axes>"
      ]
     },
     "metadata": {},
     "output_type": "display_data"
    },
    {
     "data": {
      "image/png": "[encoded data removed]",
      "text/plain": [
       "<Figure size 640x480 with 1 Axes>"
      ]
     },
     "metadata": {},
     "output_type": "display_data"
    }
   ],
   "source": [
    "import matplotlib.pyplot as plt\n",
    "\n",
    "def show_letter(x):\n",
    "    plt.imshow(x.reshape(6,5), cmap='gray')\n",
    "    plt.show()\n",
    "\n",
    "show_letter(A)\n",
    "show_letter(B)\n",
    "show_letter(C)\n"
   ]
  },
  {
   "cell_type": "markdown",
   "id": "6e747743",
   "metadata": {},
   "source": [
    "PREDICT ACCURACY"
   ]
  },
  {
   "cell_type": "code",
   "execution_count": null,
   "id": "8b8d8ce3",
   "metadata": {},
   "outputs": [
    {
     "name": "stdout",
     "output_type": "stream",
     "text": [
      "Accuracy: 100.00%\n"
     ]
    }
   ],
   "source": [
    "def predict(X):                     #    Predict the class index for each input sample X.\n",
    "    # Forward pass\n",
    "    Z1 = np.dot(X, W1) + b1\n",
    "    A1 = 1 / (1 + np.exp(-Z1))          # sigmoid\n",
    "    Z2 = np.dot(A1, W2) + b2\n",
    "    A2 = 1 / (1 + np.exp(-Z2))          # sigmoid\n",
    "    return np.argmax(A2, axis=1)\n",
    "preds = predict(X)                  # predicted class indices\n",
    "labels = np.argmax(Y, axis=1)       # actual class indices\n",
    "accuracy = np.mean(preds == labels) * 100\n",
    "print(f\"Accuracy: {accuracy:.2f}%\")"
   ]
  }
 ],
 "metadata": {
  "kernelspec": {
   "display_name": "Python 3",
   "language": "python",
   "name": "python3"
  },
  "language_info": {
   "codemirror_mode": {
    "name": "ipython",
    "version": 3
   },
   "file_extension": ".py",
   "mimetype": "text/x-python",
   "name": "python",
   "nbconvert_exporter": "python",
   "pygments_lexer": "ipython3",
   "version": "3.13.3"
  }
 },
 "nbformat": 4,
 "nbformat_minor": 5
}
